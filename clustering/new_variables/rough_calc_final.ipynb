{
  "cells": [
    {
      "cell_type": "markdown",
      "source": [
        "importing libraries"
      ],
      "metadata": {
        "id": "5OBfnthb5y8z"
      }
    },
    {
      "cell_type": "code",
      "execution_count": 1,
      "metadata": {
        "id": "-PtZuokBcj2U"
      },
      "outputs": [],
      "source": [
        "import pandas as pd\n",
        "import numpy as np"
      ]
    },
    {
      "cell_type": "code",
      "execution_count": 2,
      "metadata": {
        "colab": {
          "base_uri": "https://localhost:8080/",
          "height": 73
        },
        "id": "JIsJZfTvclIJ",
        "outputId": "00ff9efb-770c-409e-a1a0-08ccb4e52f25"
      },
      "outputs": [
        {
          "output_type": "display_data",
          "data": {
            "text/plain": [
              "<IPython.core.display.HTML object>"
            ],
            "text/html": [
              "\n",
              "     <input type=\"file\" id=\"files-6ac72fb6-48a1-4525-8ef8-5149f46ebe83\" name=\"files[]\" multiple disabled\n",
              "        style=\"border:none\" />\n",
              "     <output id=\"result-6ac72fb6-48a1-4525-8ef8-5149f46ebe83\">\n",
              "      Upload widget is only available when the cell has been executed in the\n",
              "      current browser session. Please rerun this cell to enable.\n",
              "      </output>\n",
              "      <script>// Copyright 2017 Google LLC\n",
              "//\n",
              "// Licensed under the Apache License, Version 2.0 (the \"License\");\n",
              "// you may not use this file except in compliance with the License.\n",
              "// You may obtain a copy of the License at\n",
              "//\n",
              "//      http://www.apache.org/licenses/LICENSE-2.0\n",
              "//\n",
              "// Unless required by applicable law or agreed to in writing, software\n",
              "// distributed under the License is distributed on an \"AS IS\" BASIS,\n",
              "// WITHOUT WARRANTIES OR CONDITIONS OF ANY KIND, either express or implied.\n",
              "// See the License for the specific language governing permissions and\n",
              "// limitations under the License.\n",
              "\n",
              "/**\n",
              " * @fileoverview Helpers for google.colab Python module.\n",
              " */\n",
              "(function(scope) {\n",
              "function span(text, styleAttributes = {}) {\n",
              "  const element = document.createElement('span');\n",
              "  element.textContent = text;\n",
              "  for (const key of Object.keys(styleAttributes)) {\n",
              "    element.style[key] = styleAttributes[key];\n",
              "  }\n",
              "  return element;\n",
              "}\n",
              "\n",
              "// Max number of bytes which will be uploaded at a time.\n",
              "const MAX_PAYLOAD_SIZE = 100 * 1024;\n",
              "\n",
              "function _uploadFiles(inputId, outputId) {\n",
              "  const steps = uploadFilesStep(inputId, outputId);\n",
              "  const outputElement = document.getElementById(outputId);\n",
              "  // Cache steps on the outputElement to make it available for the next call\n",
              "  // to uploadFilesContinue from Python.\n",
              "  outputElement.steps = steps;\n",
              "\n",
              "  return _uploadFilesContinue(outputId);\n",
              "}\n",
              "\n",
              "// This is roughly an async generator (not supported in the browser yet),\n",
              "// where there are multiple asynchronous steps and the Python side is going\n",
              "// to poll for completion of each step.\n",
              "// This uses a Promise to block the python side on completion of each step,\n",
              "// then passes the result of the previous step as the input to the next step.\n",
              "function _uploadFilesContinue(outputId) {\n",
              "  const outputElement = document.getElementById(outputId);\n",
              "  const steps = outputElement.steps;\n",
              "\n",
              "  const next = steps.next(outputElement.lastPromiseValue);\n",
              "  return Promise.resolve(next.value.promise).then((value) => {\n",
              "    // Cache the last promise value to make it available to the next\n",
              "    // step of the generator.\n",
              "    outputElement.lastPromiseValue = value;\n",
              "    return next.value.response;\n",
              "  });\n",
              "}\n",
              "\n",
              "/**\n",
              " * Generator function which is called between each async step of the upload\n",
              " * process.\n",
              " * @param {string} inputId Element ID of the input file picker element.\n",
              " * @param {string} outputId Element ID of the output display.\n",
              " * @return {!Iterable<!Object>} Iterable of next steps.\n",
              " */\n",
              "function* uploadFilesStep(inputId, outputId) {\n",
              "  const inputElement = document.getElementById(inputId);\n",
              "  inputElement.disabled = false;\n",
              "\n",
              "  const outputElement = document.getElementById(outputId);\n",
              "  outputElement.innerHTML = '';\n",
              "\n",
              "  const pickedPromise = new Promise((resolve) => {\n",
              "    inputElement.addEventListener('change', (e) => {\n",
              "      resolve(e.target.files);\n",
              "    });\n",
              "  });\n",
              "\n",
              "  const cancel = document.createElement('button');\n",
              "  inputElement.parentElement.appendChild(cancel);\n",
              "  cancel.textContent = 'Cancel upload';\n",
              "  const cancelPromise = new Promise((resolve) => {\n",
              "    cancel.onclick = () => {\n",
              "      resolve(null);\n",
              "    };\n",
              "  });\n",
              "\n",
              "  // Wait for the user to pick the files.\n",
              "  const files = yield {\n",
              "    promise: Promise.race([pickedPromise, cancelPromise]),\n",
              "    response: {\n",
              "      action: 'starting',\n",
              "    }\n",
              "  };\n",
              "\n",
              "  cancel.remove();\n",
              "\n",
              "  // Disable the input element since further picks are not allowed.\n",
              "  inputElement.disabled = true;\n",
              "\n",
              "  if (!files) {\n",
              "    return {\n",
              "      response: {\n",
              "        action: 'complete',\n",
              "      }\n",
              "    };\n",
              "  }\n",
              "\n",
              "  for (const file of files) {\n",
              "    const li = document.createElement('li');\n",
              "    li.append(span(file.name, {fontWeight: 'bold'}));\n",
              "    li.append(span(\n",
              "        `(${file.type || 'n/a'}) - ${file.size} bytes, ` +\n",
              "        `last modified: ${\n",
              "            file.lastModifiedDate ? file.lastModifiedDate.toLocaleDateString() :\n",
              "                                    'n/a'} - `));\n",
              "    const percent = span('0% done');\n",
              "    li.appendChild(percent);\n",
              "\n",
              "    outputElement.appendChild(li);\n",
              "\n",
              "    const fileDataPromise = new Promise((resolve) => {\n",
              "      const reader = new FileReader();\n",
              "      reader.onload = (e) => {\n",
              "        resolve(e.target.result);\n",
              "      };\n",
              "      reader.readAsArrayBuffer(file);\n",
              "    });\n",
              "    // Wait for the data to be ready.\n",
              "    let fileData = yield {\n",
              "      promise: fileDataPromise,\n",
              "      response: {\n",
              "        action: 'continue',\n",
              "      }\n",
              "    };\n",
              "\n",
              "    // Use a chunked sending to avoid message size limits. See b/62115660.\n",
              "    let position = 0;\n",
              "    do {\n",
              "      const length = Math.min(fileData.byteLength - position, MAX_PAYLOAD_SIZE);\n",
              "      const chunk = new Uint8Array(fileData, position, length);\n",
              "      position += length;\n",
              "\n",
              "      const base64 = btoa(String.fromCharCode.apply(null, chunk));\n",
              "      yield {\n",
              "        response: {\n",
              "          action: 'append',\n",
              "          file: file.name,\n",
              "          data: base64,\n",
              "        },\n",
              "      };\n",
              "\n",
              "      let percentDone = fileData.byteLength === 0 ?\n",
              "          100 :\n",
              "          Math.round((position / fileData.byteLength) * 100);\n",
              "      percent.textContent = `${percentDone}% done`;\n",
              "\n",
              "    } while (position < fileData.byteLength);\n",
              "  }\n",
              "\n",
              "  // All done.\n",
              "  yield {\n",
              "    response: {\n",
              "      action: 'complete',\n",
              "    }\n",
              "  };\n",
              "}\n",
              "\n",
              "scope.google = scope.google || {};\n",
              "scope.google.colab = scope.google.colab || {};\n",
              "scope.google.colab._files = {\n",
              "  _uploadFiles,\n",
              "  _uploadFilesContinue,\n",
              "};\n",
              "})(self);\n",
              "</script> "
            ]
          },
          "metadata": {}
        },
        {
          "output_type": "stream",
          "name": "stdout",
          "text": [
            "Saving Data1.xlsx to Data1.xlsx\n"
          ]
        }
      ],
      "source": [
        "from google.colab import files\n",
        "uploaded = files.upload()"
      ]
    },
    {
      "cell_type": "markdown",
      "source": [
        "reading file, creating a new dataframe"
      ],
      "metadata": {
        "id": "oYPJliJj5wkd"
      }
    },
    {
      "cell_type": "code",
      "execution_count": 3,
      "metadata": {
        "id": "cqo1XZmHfsKs"
      },
      "outputs": [],
      "source": [
        "df = pd.read_excel('Data1.xlsx')"
      ]
    },
    {
      "cell_type": "code",
      "source": [
        "#constant declarations\n",
        "\n",
        "threshold_const = 10 #relaxation period in secs i.e. (10 secs of error is allowed b/w avg rt and individual rt) (rt = response time)\n",
        "num_of_students = 46\n",
        "num_of_ques = 15 #number of questions for each student, each question is worth 1 mark"
      ],
      "metadata": {
        "id": "yvGyklmBKzzv"
      },
      "execution_count": 4,
      "outputs": []
    },
    {
      "cell_type": "code",
      "source": [
        "df.info() # to see the number of entries and if all the variables have equal no. of data points"
      ],
      "metadata": {
        "colab": {
          "base_uri": "https://localhost:8080/"
        },
        "id": "nV63phkhvA7X",
        "outputId": "a119265b-217f-4901-be27-16284eca6738"
      },
      "execution_count": 5,
      "outputs": [
        {
          "output_type": "stream",
          "name": "stdout",
          "text": [
            "<class 'pandas.core.frame.DataFrame'>\n",
            "RangeIndex: 690 entries, 0 to 689\n",
            "Data columns (total 9 columns):\n",
            " #   Column                  Non-Null Count  Dtype \n",
            "---  ------                  --------------  ----- \n",
            " 0   Username/ID             690 non-null    object\n",
            " 1   Question                690 non-null    object\n",
            " 2   Question Difficulty     690 non-null    object\n",
            " 3   Chosen Option           690 non-null    object\n",
            " 4   Answer Submission Time  690 non-null    object\n",
            " 5   Answer Attempts         690 non-null    int64 \n",
            " 6   Time Spent (secs)       690 non-null    int64 \n",
            " 7   Score Earned            690 non-null    int64 \n",
            " 8   State                   690 non-null    object\n",
            "dtypes: int64(3), object(6)\n",
            "memory usage: 48.6+ KB\n"
          ]
        }
      ]
    },
    {
      "cell_type": "markdown",
      "source": [
        "creating a seperate dataframe\n",
        "\n",
        "the variable names should be the same in the original dataframe (like 'Username/ID' should be the variable name for the name of the students in every dataframe that is read)\n"
      ],
      "metadata": {
        "id": "BcAGymmReMBx"
      }
    },
    {
      "cell_type": "code",
      "source": [
        "#creating a new df\n",
        "data = [df['Username/ID'], df['Question'], df['Question Difficulty'], df['Time Spent (secs)'], df['Score Earned']]\n",
        "headers = ['Username/ID','Question', 'Question Difficulty', 'time_spent(secs)', 'score_earned']\n",
        "\n",
        "new_df = pd.concat(data, axis=1, keys=headers)"
      ],
      "metadata": {
        "id": "p3v6vgl5ZFXt"
      },
      "execution_count": 6,
      "outputs": []
    },
    {
      "cell_type": "code",
      "source": [
        "#turning string to int\n",
        "new_df['Question'][new_df['Question'] == 'Q1'] = 1\n",
        "new_df['Question'][new_df['Question'] == 'Q2'] = 2\n",
        "new_df['Question'][new_df['Question'] == 'Q3'] = 3\n",
        "new_df['Question'][new_df['Question'] == 'Q4'] = 4\n",
        "new_df['Question'][new_df['Question'] == 'Q5'] = 5\n",
        "new_df['Question'][new_df['Question'] == 'Q6'] = 6\n",
        "new_df['Question'][new_df['Question'] == 'Q7'] = 7\n",
        "new_df['Question'][new_df['Question'] == 'Q8'] = 8\n",
        "new_df['Question'][new_df['Question'] == 'Q9'] = 9\n",
        "new_df['Question'][new_df['Question'] == 'Q10'] = 10\n",
        "new_df['Question'][new_df['Question'] == 'Q11'] = 11\n",
        "new_df['Question'][new_df['Question'] == 'Q12'] = 12\n",
        "new_df['Question'][new_df['Question'] == 'Q13'] = 13\n",
        "new_df['Question'][new_df['Question'] == 'Q14'] = 14\n",
        "new_df['Question'][new_df['Question'] == 'Q15'] = 15\n",
        "### clear output"
      ],
      "metadata": {
        "id": "IcyAvB6AZIzi"
      },
      "execution_count": null,
      "outputs": []
    },
    {
      "cell_type": "code",
      "source": [
        "name_list = new_df['Username/ID'].unique().tolist() #creating a list of student names for later use"
      ],
      "metadata": {
        "id": "uvE1rj83Wj8_"
      },
      "execution_count": 10,
      "outputs": []
    },
    {
      "cell_type": "code",
      "source": [
        "name_list.sort() #alphabetically ordered list of student names"
      ],
      "metadata": {
        "id": "ArF-Ag-VnC_I"
      },
      "execution_count": 11,
      "outputs": []
    },
    {
      "cell_type": "markdown",
      "source": [
        "#### Now we find,\n",
        "\n",
        "1. time spent(for each difficulty level)\n",
        "2. time spent(for each difficulty level) and (correct response)\n",
        "3. score earned(for each difficulty level)\n",
        "4. score earned(for each difficulty level) and (correct response)\n",
        "\n"
      ],
      "metadata": {
        "id": "A5q3teGftQYy"
      }
    },
    {
      "cell_type": "code",
      "source": [
        "new_df.loc[((new_df['Username/ID'] == 'MUHAMMED FAIES') & (new_df['Question Difficulty'] == 'low'))]['time_spent(secs)'].sum()"
      ],
      "metadata": {
        "id": "K08gDFz8Ydlu",
        "colab": {
          "base_uri": "https://localhost:8080/"
        },
        "outputId": "00a6cc4b-9be3-42a5-8bb7-3bcccd510c33"
      },
      "execution_count": 8,
      "outputs": [
        {
          "output_type": "execute_result",
          "data": {
            "text/plain": [
              "109"
            ]
          },
          "metadata": {},
          "execution_count": 8
        }
      ]
    },
    {
      "cell_type": "markdown",
      "source": [
        "the code above gives the time_spent(secs) total by MUHAMMED FAIES for low difficulty questions. Using for loop we'll find time_spent(secs) for each difficulty for each student. Then the same with an added condition that the responses are correct."
      ],
      "metadata": {
        "id": "w06M6PdryAFW"
      }
    },
    {
      "cell_type": "code",
      "source": [
        "low_diff_rt = []\n",
        "mid_diff_rt = []\n",
        "high_diff_rt = []\n",
        "\n",
        "low_diff_score = []\n",
        "mid_diff_score = []\n",
        "high_diff_score = []\n",
        "\n",
        "low_diff_rt_correct = []\n",
        "mid_diff_rt_correct = []\n",
        "high_diff_rt_correct = []\n",
        "\n",
        "for name in name_list:\n",
        "  # total response time for the each difficulty for each student\n",
        "  low_diff_rt.append(new_df.loc[((new_df['Username/ID'] == name) & (new_df['Question Difficulty'] == 'low'))]['time_spent(secs)'].sum())\n",
        "  mid_diff_rt.append(new_df.loc[((new_df['Username/ID'] == name) & (new_df['Question Difficulty'] == 'medium'))]['time_spent(secs)'].sum())\n",
        "  high_diff_rt.append(new_df.loc[((new_df['Username/ID'] == name) & (new_df['Question Difficulty'] == 'high'))]['time_spent(secs)'].sum())\n",
        "\n",
        "  # total scores for the each difficulty for each student\n",
        "  low_diff_score.append(new_df.loc[((new_df['Username/ID'] == name) & (new_df['Question Difficulty'] == 'low'))]['score_earned'].sum())\n",
        "  mid_diff_score.append(new_df.loc[((new_df['Username/ID'] == name) & (new_df['Question Difficulty'] == 'medium'))]['score_earned'].sum())\n",
        "  high_diff_score.append(new_df.loc[((new_df['Username/ID'] == name) & (new_df['Question Difficulty'] == 'high'))]['score_earned'].sum())\n",
        "\n",
        "  # total response times for each difficulty for each student given the answer is correct\n",
        "  low_diff_rt_correct.append(new_df.loc[((new_df['Username/ID'] == name) & (new_df['Question Difficulty'] == 'low') & (new_df['score_earned'] == 1))]['time_spent(secs)'].sum())\n",
        "  mid_diff_rt_correct.append(new_df.loc[((new_df['Username/ID'] == name) & (new_df['Question Difficulty'] == 'medium') & (new_df['score_earned'] == 1))]['time_spent(secs)'].sum())\n",
        "  high_diff_rt_correct.append(new_df.loc[((new_df['Username/ID'] == name) & (new_df['Question Difficulty'] == 'high') & (new_df['score_earned'] == 1))]['time_spent(secs)'].sum())"
      ],
      "metadata": {
        "id": "ZY1U8ZvqXQCU"
      },
      "execution_count": 12,
      "outputs": []
    },
    {
      "cell_type": "markdown",
      "source": [
        "#### finding number of flagged response times (for each student)"
      ],
      "metadata": {
        "id": "JNIeMszlNoRz"
      }
    },
    {
      "cell_type": "markdown",
      "source": [
        "first, we find the avg resp time of each question"
      ],
      "metadata": {
        "id": "wPIINy3dl6GI"
      }
    },
    {
      "cell_type": "code",
      "source": [
        "class_avg_resp_time = []#list will contain the average response time for each question, since there are 15 ques then this list will have 15 values\n",
        "\n",
        "for num in range(1,(num_of_ques+1)):\n",
        "  class_avg_resp_time.append(new_df.loc[new_df['Question'] == num]['time_spent(secs)'].mean())"
      ],
      "metadata": {
        "id": "OaE57P4eZJ7J"
      },
      "execution_count": 13,
      "outputs": []
    },
    {
      "cell_type": "code",
      "source": [
        "class_avg_resp = class_avg_resp_time * num_of_students #making the list the same length as the dataframe (e.g-> [1,2,3] * 2 gives [1,2,3,1,2,3])"
      ],
      "metadata": {
        "id": "_iv9t7gviOJp"
      },
      "execution_count": 14,
      "outputs": []
    },
    {
      "cell_type": "code",
      "source": [
        "new_df.insert(loc=5, column='class average response time', value=class_avg_resp)"
      ],
      "metadata": {
        "id": "TTzsV8CUiPzI"
      },
      "execution_count": 15,
      "outputs": []
    },
    {
      "cell_type": "markdown",
      "source": [
        "second step, we create a function to flag out individual response times greater than the average response time by at least the margin of the threshold count (i.e. 10 in this case)"
      ],
      "metadata": {
        "id": "yihuyzc-nT7U"
      }
    },
    {
      "cell_type": "code",
      "source": [
        "def func(x, y):\n",
        "  if x > y + threshold_const:\n",
        "    return 1\n",
        "  else:\n",
        "    return 0"
      ],
      "metadata": {
        "id": "WHIItxoDNJnB"
      },
      "execution_count": 16,
      "outputs": []
    },
    {
      "cell_type": "code",
      "source": [
        "new_df['flag'] = new_df.apply(lambda x: func(x['time_spent(secs)'], x['class average response time']), axis=1)"
      ],
      "metadata": {
        "id": "JO5jyJl6NMoE"
      },
      "execution_count": 17,
      "outputs": []
    },
    {
      "cell_type": "markdown",
      "source": [
        "creating a seperate dataframe (df1) using two conditions and groupby method to single out the list of 'no.' of flags where the response is correct"
      ],
      "metadata": {
        "id": "hqoIJybb5gid"
      }
    },
    {
      "cell_type": "code",
      "source": [
        "df1 = new_df.loc[(new_df['score_earned'] == 1) & (new_df['flag'] == 1)]"
      ],
      "metadata": {
        "id": "_BcEdYOgNexL"
      },
      "execution_count": 18,
      "outputs": []
    },
    {
      "cell_type": "code",
      "source": [
        "df1 = df1.groupby(['Username/ID']).sum()"
      ],
      "metadata": {
        "id": "lWGWZNq5rcXY",
        "colab": {
          "base_uri": "https://localhost:8080/"
        },
        "outputId": "63b1e30c-4e85-4db2-9e46-fc8953d1d3e7"
      },
      "execution_count": 19,
      "outputs": [
        {
          "output_type": "stream",
          "name": "stderr",
          "text": [
            "<ipython-input-19-c7192b42c8aa>:1: FutureWarning: The default value of numeric_only in DataFrameGroupBy.sum is deprecated. In a future version, numeric_only will default to False. Either specify numeric_only or select only columns which should be valid for the function.\n",
            "  df1 = df1.groupby(['Username/ID']).sum()\n"
          ]
        }
      ]
    },
    {
      "cell_type": "code",
      "source": [
        "df1 = df1.reset_index()"
      ],
      "metadata": {
        "id": "qlpJHR6asMrQ"
      },
      "execution_count": 20,
      "outputs": []
    },
    {
      "cell_type": "code",
      "source": [
        "flag_correct_lst = df1['flag'].tolist()\n",
        "# this list only has the students which satisfy both the conditions (a) score = 1 (b) flag = 1, but there are students that dont have a flag AND a correct response together.\n",
        "# so, the following code adds a 0 in the resp. places"
      ],
      "metadata": {
        "id": "VwKQjcooGftC"
      },
      "execution_count": 21,
      "outputs": []
    },
    {
      "cell_type": "code",
      "source": [
        "#name_list ###list of entire students\n",
        "#df1['Username/ID'].tolist() ###list of students that satisfy both conditions somewhere in any question"
      ],
      "metadata": {
        "id": "KUfOiy7KBN-k"
      },
      "execution_count": 22,
      "outputs": []
    },
    {
      "cell_type": "code",
      "source": [
        "#name_list.index('SHIVIKA NA') #one of the students who dont have any flag with a correct response. 35 is the position of the student in the entire name_list."
      ],
      "metadata": {
        "id": "Dz62Wm-HFWUl"
      },
      "execution_count": 23,
      "outputs": []
    },
    {
      "cell_type": "code",
      "source": [
        "no_correct_flags = list(set(name_list) - set(df1['Username/ID'].tolist())) #this list is the difference, it contains the names of the students like shivika that havent satisfied the two conditions for any ques.\n",
        "posn = []\n",
        "for x in no_correct_flags:#iterating through the list of students like shivika and finding the index/position\n",
        "  posn.append(name_list.index(x))"
      ],
      "metadata": {
        "id": "Zpp6qF3DAb3Y"
      },
      "execution_count": 24,
      "outputs": []
    },
    {
      "cell_type": "code",
      "source": [
        "for p in posn:\n",
        "  flag_correct_lst.insert(p, 0)"
      ],
      "metadata": {
        "id": "AFSUfzLXAb0u"
      },
      "execution_count": 25,
      "outputs": []
    },
    {
      "cell_type": "code",
      "source": [
        "## what we're doing here is basically inserting a zero, where the student doesn't have a flag with a correct response\n",
        "## eg. shivika na should have a zero under the flag_correct column because none of her correct attempts took 10 secs more than the average response time"
      ],
      "metadata": {
        "id": "p69EJp1LpsNn"
      },
      "execution_count": 26,
      "outputs": []
    },
    {
      "cell_type": "code",
      "source": [
        "len(flag_correct_lst)"
      ],
      "metadata": {
        "colab": {
          "base_uri": "https://localhost:8080/"
        },
        "id": "vCxmzLuRGMsA",
        "outputId": "5c19aed0-7b61-40f4-eb32-59891c664cc7"
      },
      "execution_count": 27,
      "outputs": [
        {
          "output_type": "execute_result",
          "data": {
            "text/plain": [
              "46"
            ]
          },
          "metadata": {},
          "execution_count": 27
        }
      ]
    },
    {
      "cell_type": "code",
      "source": [
        "#df1 has two conditions applied to it: (a) score earned = 1 and (b) flag = 1\n",
        "#we'll take out the flag list from this dataframe, which is the correct response flag list"
      ],
      "metadata": {
        "id": "qyPUxlyD3Scm"
      },
      "execution_count": 28,
      "outputs": []
    },
    {
      "cell_type": "markdown",
      "source": [
        "creating a seperate dataframe (df2) to make a list of all the other variables (entire time spent(each student), score earned, all flagged)"
      ],
      "metadata": {
        "id": "x4JJf7wI5g92"
      }
    },
    {
      "cell_type": "code",
      "source": [
        "df2 = new_df.groupby(['Username/ID']).sum()"
      ],
      "metadata": {
        "id": "tndzleRsOTA5",
        "colab": {
          "base_uri": "https://localhost:8080/"
        },
        "outputId": "d5f47487-f3b2-4571-dd74-9cb5c93af6f5"
      },
      "execution_count": 29,
      "outputs": [
        {
          "output_type": "stream",
          "name": "stderr",
          "text": [
            "<ipython-input-29-5f17228a0e6e>:1: FutureWarning: The default value of numeric_only in DataFrameGroupBy.sum is deprecated. In a future version, numeric_only will default to False. Either specify numeric_only or select only columns which should be valid for the function.\n",
            "  df2 = new_df.groupby(['Username/ID']).sum()\n"
          ]
        }
      ]
    },
    {
      "cell_type": "code",
      "source": [
        "df2 = df2.reset_index()"
      ],
      "metadata": {
        "id": "VOUBJv9CnpV-"
      },
      "execution_count": 30,
      "outputs": []
    },
    {
      "cell_type": "code",
      "source": [
        "# we have had to create two seperate dataframes to make the lists out of, because\n",
        "# there's a condition we need to satisfy (score_earned = 1) for the flagged_rt_correct list.\n",
        "# we don't want that condition to be applied to other variables."
      ],
      "metadata": {
        "id": "5saHlyo54LG9"
      },
      "execution_count": 31,
      "outputs": []
    },
    {
      "cell_type": "code",
      "source": [
        "time_spent_lst = df2['time_spent(secs)'].tolist()\n",
        "score_earned_lst = df2['score_earned'].tolist()\n",
        "flag_lst = df2['flag'].tolist()"
      ],
      "metadata": {
        "id": "9y1TCWL2toTF"
      },
      "execution_count": 32,
      "outputs": []
    },
    {
      "cell_type": "markdown",
      "source": [
        "creating the final dataframe"
      ],
      "metadata": {
        "id": "iKcBK-gKVwaY"
      }
    },
    {
      "cell_type": "markdown",
      "source": [
        "The lists that are being added to the final dataframe\n",
        "1. name_list (alphabetically)\n",
        "2. time_spent(secs) (each students entire time spent)\n",
        "3. score_earned(total score of each student, out of 15)\n",
        "\n",
        "> total response times wrt difficulty of each student (one value, e.g -> muhammad = 109 secs)\n",
        "4. low_diff_rt\n",
        "5. mid_diff_rt\n",
        "6. high_diff_rt\n",
        "\n",
        "> scores wrt difficulty of each student\n",
        "7. low_diff_score\n",
        "8. mid_diff_score\n",
        "9. high_diff_score\n",
        "\n",
        "> total response times wrt difficulty of each student given the answers are correct\n",
        "10. low_diff_rt_correct\n",
        "11. mid_diff_rt_correct\n",
        "12. high_diff_rt_correct\n",
        "\n",
        "\n",
        "16. flagged response times i.e. number of times that student has been flagged\n",
        "17. flagged rt when correct"
      ],
      "metadata": {
        "id": "0OoYxFOZ6ScG"
      }
    },
    {
      "cell_type": "code",
      "source": [
        "name_list.sort()"
      ],
      "metadata": {
        "id": "7mugoof-ooXy"
      },
      "execution_count": 33,
      "outputs": []
    },
    {
      "cell_type": "code",
      "source": [
        "final_df = pd.DataFrame(list(zip(name_list, time_spent_lst, score_earned_lst, flag_lst, flag_correct_lst, low_diff_rt, mid_diff_rt, high_diff_rt, low_diff_rt_correct,\n",
        "                                 mid_diff_rt_correct, high_diff_rt_correct, low_diff_score, mid_diff_score, high_diff_score)),\n",
        "               columns =['Student', 'total time spent(secs)', 'total score earned', 'flag', 'flag when correct', 'low_diff_rt', 'mid_diff_rt', 'high_diff_rt',\n",
        "                         'low_diff_rt_correct', 'mid_diff_rt_correct', 'high_diff_rt_correct', 'low_diff_score', 'mid_diff_score', 'high_diff_score'])"
      ],
      "metadata": {
        "id": "PdVKGclNs1r2"
      },
      "execution_count": 35,
      "outputs": []
    },
    {
      "cell_type": "code",
      "source": [
        "final_df.shape # no. of students and the resp variables (13 + 1(names))"
      ],
      "metadata": {
        "colab": {
          "base_uri": "https://localhost:8080/"
        },
        "id": "yM_f6UNl9qIS",
        "outputId": "78d36bce-e133-4ffa-c2ab-e418691814cb"
      },
      "execution_count": 38,
      "outputs": [
        {
          "output_type": "execute_result",
          "data": {
            "text/plain": [
              "(46, 14)"
            ]
          },
          "metadata": {},
          "execution_count": 38
        }
      ]
    },
    {
      "cell_type": "code",
      "source": [
        "final_df.head(10)"
      ],
      "metadata": {
        "colab": {
          "base_uri": "https://localhost:8080/",
          "height": 442
        },
        "id": "Kq_GAol1943q",
        "outputId": "1b2c41e2-3f69-49df-eb50-60ded7c2a287"
      },
      "execution_count": 39,
      "outputs": [
        {
          "output_type": "execute_result",
          "data": {
            "text/plain": [
              "            Student  total time spent(secs)  total score earned  flag  \\\n",
              "0     ADITI SUKHIJA                     948                  15     6   \n",
              "1      ANJALI ARORA                     924                  12     7   \n",
              "2         ANJALI NA                    1492                  11     9   \n",
              "3          Aditya P                    1034                  11     8   \n",
              "4         BHAWNA NA                     306                  12     1   \n",
              "5     DEEPESH KUMAR                     482                  10     2   \n",
              "6       DISHA GUPTA                     929                  15     6   \n",
              "7        DIVYA GOEL                     735                  12     4   \n",
              "8         GUR RAKHA                    1492                  14     7   \n",
              "9  HARSHITA MAITREY                    1157                   7     5   \n",
              "\n",
              "   flag when correct  low_diff_rt  mid_diff_rt  high_diff_rt  \\\n",
              "0                  6          228          332           388   \n",
              "1                  6          167          367           390   \n",
              "2                  6          612          647           233   \n",
              "3                  6          247          431           356   \n",
              "4                  1          131          103            72   \n",
              "5                  2          124          231           127   \n",
              "6                  6          222          323           384   \n",
              "7                  3          179          251           305   \n",
              "8                  6          365          289           838   \n",
              "9                  0          381          382           394   \n",
              "\n",
              "   low_diff_rt_correct  mid_diff_rt_correct  high_diff_rt_correct  \\\n",
              "0                  228                  332                   388   \n",
              "1                  167                  192                   390   \n",
              "2                  612                  224                   132   \n",
              "3                  188                  346                   285   \n",
              "4                  126                  103                    72   \n",
              "5                   91                  202                    58   \n",
              "6                  222                  323                   384   \n",
              "7                  179                  251                   161   \n",
              "8                  365                  289                   639   \n",
              "9                   67                   76                     0   \n",
              "\n",
              "   low_diff_score  mid_diff_score  high_diff_score  \n",
              "0               7               5                3  \n",
              "1               7               2                3  \n",
              "2               7               3                1  \n",
              "3               5               4                2  \n",
              "4               4               5                3  \n",
              "5               6               3                1  \n",
              "6               7               5                3  \n",
              "7               7               4                1  \n",
              "8               7               5                2  \n",
              "9               5               2                0  "
            ],
            "text/html": [
              "\n",
              "\n",
              "  <div id=\"df-6cb7b905-39cc-4e8d-972f-4c9ac8e530c5\">\n",
              "    <div class=\"colab-df-container\">\n",
              "      <div>\n",
              "<style scoped>\n",
              "    .dataframe tbody tr th:only-of-type {\n",
              "        vertical-align: middle;\n",
              "    }\n",
              "\n",
              "    .dataframe tbody tr th {\n",
              "        vertical-align: top;\n",
              "    }\n",
              "\n",
              "    .dataframe thead th {\n",
              "        text-align: right;\n",
              "    }\n",
              "</style>\n",
              "<table border=\"1\" class=\"dataframe\">\n",
              "  <thead>\n",
              "    <tr style=\"text-align: right;\">\n",
              "      <th></th>\n",
              "      <th>Student</th>\n",
              "      <th>total time spent(secs)</th>\n",
              "      <th>total score earned</th>\n",
              "      <th>flag</th>\n",
              "      <th>flag when correct</th>\n",
              "      <th>low_diff_rt</th>\n",
              "      <th>mid_diff_rt</th>\n",
              "      <th>high_diff_rt</th>\n",
              "      <th>low_diff_rt_correct</th>\n",
              "      <th>mid_diff_rt_correct</th>\n",
              "      <th>high_diff_rt_correct</th>\n",
              "      <th>low_diff_score</th>\n",
              "      <th>mid_diff_score</th>\n",
              "      <th>high_diff_score</th>\n",
              "    </tr>\n",
              "  </thead>\n",
              "  <tbody>\n",
              "    <tr>\n",
              "      <th>0</th>\n",
              "      <td>ADITI SUKHIJA</td>\n",
              "      <td>948</td>\n",
              "      <td>15</td>\n",
              "      <td>6</td>\n",
              "      <td>6</td>\n",
              "      <td>228</td>\n",
              "      <td>332</td>\n",
              "      <td>388</td>\n",
              "      <td>228</td>\n",
              "      <td>332</td>\n",
              "      <td>388</td>\n",
              "      <td>7</td>\n",
              "      <td>5</td>\n",
              "      <td>3</td>\n",
              "    </tr>\n",
              "    <tr>\n",
              "      <th>1</th>\n",
              "      <td>ANJALI ARORA</td>\n",
              "      <td>924</td>\n",
              "      <td>12</td>\n",
              "      <td>7</td>\n",
              "      <td>6</td>\n",
              "      <td>167</td>\n",
              "      <td>367</td>\n",
              "      <td>390</td>\n",
              "      <td>167</td>\n",
              "      <td>192</td>\n",
              "      <td>390</td>\n",
              "      <td>7</td>\n",
              "      <td>2</td>\n",
              "      <td>3</td>\n",
              "    </tr>\n",
              "    <tr>\n",
              "      <th>2</th>\n",
              "      <td>ANJALI NA</td>\n",
              "      <td>1492</td>\n",
              "      <td>11</td>\n",
              "      <td>9</td>\n",
              "      <td>6</td>\n",
              "      <td>612</td>\n",
              "      <td>647</td>\n",
              "      <td>233</td>\n",
              "      <td>612</td>\n",
              "      <td>224</td>\n",
              "      <td>132</td>\n",
              "      <td>7</td>\n",
              "      <td>3</td>\n",
              "      <td>1</td>\n",
              "    </tr>\n",
              "    <tr>\n",
              "      <th>3</th>\n",
              "      <td>Aditya P</td>\n",
              "      <td>1034</td>\n",
              "      <td>11</td>\n",
              "      <td>8</td>\n",
              "      <td>6</td>\n",
              "      <td>247</td>\n",
              "      <td>431</td>\n",
              "      <td>356</td>\n",
              "      <td>188</td>\n",
              "      <td>346</td>\n",
              "      <td>285</td>\n",
              "      <td>5</td>\n",
              "      <td>4</td>\n",
              "      <td>2</td>\n",
              "    </tr>\n",
              "    <tr>\n",
              "      <th>4</th>\n",
              "      <td>BHAWNA NA</td>\n",
              "      <td>306</td>\n",
              "      <td>12</td>\n",
              "      <td>1</td>\n",
              "      <td>1</td>\n",
              "      <td>131</td>\n",
              "      <td>103</td>\n",
              "      <td>72</td>\n",
              "      <td>126</td>\n",
              "      <td>103</td>\n",
              "      <td>72</td>\n",
              "      <td>4</td>\n",
              "      <td>5</td>\n",
              "      <td>3</td>\n",
              "    </tr>\n",
              "    <tr>\n",
              "      <th>5</th>\n",
              "      <td>DEEPESH KUMAR</td>\n",
              "      <td>482</td>\n",
              "      <td>10</td>\n",
              "      <td>2</td>\n",
              "      <td>2</td>\n",
              "      <td>124</td>\n",
              "      <td>231</td>\n",
              "      <td>127</td>\n",
              "      <td>91</td>\n",
              "      <td>202</td>\n",
              "      <td>58</td>\n",
              "      <td>6</td>\n",
              "      <td>3</td>\n",
              "      <td>1</td>\n",
              "    </tr>\n",
              "    <tr>\n",
              "      <th>6</th>\n",
              "      <td>DISHA GUPTA</td>\n",
              "      <td>929</td>\n",
              "      <td>15</td>\n",
              "      <td>6</td>\n",
              "      <td>6</td>\n",
              "      <td>222</td>\n",
              "      <td>323</td>\n",
              "      <td>384</td>\n",
              "      <td>222</td>\n",
              "      <td>323</td>\n",
              "      <td>384</td>\n",
              "      <td>7</td>\n",
              "      <td>5</td>\n",
              "      <td>3</td>\n",
              "    </tr>\n",
              "    <tr>\n",
              "      <th>7</th>\n",
              "      <td>DIVYA GOEL</td>\n",
              "      <td>735</td>\n",
              "      <td>12</td>\n",
              "      <td>4</td>\n",
              "      <td>3</td>\n",
              "      <td>179</td>\n",
              "      <td>251</td>\n",
              "      <td>305</td>\n",
              "      <td>179</td>\n",
              "      <td>251</td>\n",
              "      <td>161</td>\n",
              "      <td>7</td>\n",
              "      <td>4</td>\n",
              "      <td>1</td>\n",
              "    </tr>\n",
              "    <tr>\n",
              "      <th>8</th>\n",
              "      <td>GUR RAKHA</td>\n",
              "      <td>1492</td>\n",
              "      <td>14</td>\n",
              "      <td>7</td>\n",
              "      <td>6</td>\n",
              "      <td>365</td>\n",
              "      <td>289</td>\n",
              "      <td>838</td>\n",
              "      <td>365</td>\n",
              "      <td>289</td>\n",
              "      <td>639</td>\n",
              "      <td>7</td>\n",
              "      <td>5</td>\n",
              "      <td>2</td>\n",
              "    </tr>\n",
              "    <tr>\n",
              "      <th>9</th>\n",
              "      <td>HARSHITA MAITREY</td>\n",
              "      <td>1157</td>\n",
              "      <td>7</td>\n",
              "      <td>5</td>\n",
              "      <td>0</td>\n",
              "      <td>381</td>\n",
              "      <td>382</td>\n",
              "      <td>394</td>\n",
              "      <td>67</td>\n",
              "      <td>76</td>\n",
              "      <td>0</td>\n",
              "      <td>5</td>\n",
              "      <td>2</td>\n",
              "      <td>0</td>\n",
              "    </tr>\n",
              "  </tbody>\n",
              "</table>\n",
              "</div>\n",
              "      <button class=\"colab-df-convert\" onclick=\"convertToInteractive('df-6cb7b905-39cc-4e8d-972f-4c9ac8e530c5')\"\n",
              "              title=\"Convert this dataframe to an interactive table.\"\n",
              "              style=\"display:none;\">\n",
              "\n",
              "  <svg xmlns=\"http://www.w3.org/2000/svg\" height=\"24px\"viewBox=\"0 0 24 24\"\n",
              "       width=\"24px\">\n",
              "    <path d=\"M0 0h24v24H0V0z\" fill=\"none\"/>\n",
              "    <path d=\"M18.56 5.44l.94 2.06.94-2.06 2.06-.94-2.06-.94-.94-2.06-.94 2.06-2.06.94zm-11 1L8.5 8.5l.94-2.06 2.06-.94-2.06-.94L8.5 2.5l-.94 2.06-2.06.94zm10 10l.94 2.06.94-2.06 2.06-.94-2.06-.94-.94-2.06-.94 2.06-2.06.94z\"/><path d=\"M17.41 7.96l-1.37-1.37c-.4-.4-.92-.59-1.43-.59-.52 0-1.04.2-1.43.59L10.3 9.45l-7.72 7.72c-.78.78-.78 2.05 0 2.83L4 21.41c.39.39.9.59 1.41.59.51 0 1.02-.2 1.41-.59l7.78-7.78 2.81-2.81c.8-.78.8-2.07 0-2.86zM5.41 20L4 18.59l7.72-7.72 1.47 1.35L5.41 20z\"/>\n",
              "  </svg>\n",
              "      </button>\n",
              "\n",
              "\n",
              "\n",
              "    <div id=\"df-9057e8f9-2c31-4c3d-ae6c-7c15028c5781\">\n",
              "      <button class=\"colab-df-quickchart\" onclick=\"quickchart('df-9057e8f9-2c31-4c3d-ae6c-7c15028c5781')\"\n",
              "              title=\"Suggest charts.\"\n",
              "              style=\"display:none;\">\n",
              "\n",
              "<svg xmlns=\"http://www.w3.org/2000/svg\" height=\"24px\"viewBox=\"0 0 24 24\"\n",
              "     width=\"24px\">\n",
              "    <g>\n",
              "        <path d=\"M19 3H5c-1.1 0-2 .9-2 2v14c0 1.1.9 2 2 2h14c1.1 0 2-.9 2-2V5c0-1.1-.9-2-2-2zM9 17H7v-7h2v7zm4 0h-2V7h2v10zm4 0h-2v-4h2v4z\"/>\n",
              "    </g>\n",
              "</svg>\n",
              "      </button>\n",
              "    </div>\n",
              "\n",
              "<style>\n",
              "  .colab-df-quickchart {\n",
              "    background-color: #E8F0FE;\n",
              "    border: none;\n",
              "    border-radius: 50%;\n",
              "    cursor: pointer;\n",
              "    display: none;\n",
              "    fill: #1967D2;\n",
              "    height: 32px;\n",
              "    padding: 0 0 0 0;\n",
              "    width: 32px;\n",
              "  }\n",
              "\n",
              "  .colab-df-quickchart:hover {\n",
              "    background-color: #E2EBFA;\n",
              "    box-shadow: 0px 1px 2px rgba(60, 64, 67, 0.3), 0px 1px 3px 1px rgba(60, 64, 67, 0.15);\n",
              "    fill: #174EA6;\n",
              "  }\n",
              "\n",
              "  [theme=dark] .colab-df-quickchart {\n",
              "    background-color: #3B4455;\n",
              "    fill: #D2E3FC;\n",
              "  }\n",
              "\n",
              "  [theme=dark] .colab-df-quickchart:hover {\n",
              "    background-color: #434B5C;\n",
              "    box-shadow: 0px 1px 3px 1px rgba(0, 0, 0, 0.15);\n",
              "    filter: drop-shadow(0px 1px 2px rgba(0, 0, 0, 0.3));\n",
              "    fill: #FFFFFF;\n",
              "  }\n",
              "</style>\n",
              "\n",
              "    <script>\n",
              "      async function quickchart(key) {\n",
              "        const containerElement = document.querySelector('#' + key);\n",
              "        const charts = await google.colab.kernel.invokeFunction(\n",
              "            'suggestCharts', [key], {});\n",
              "      }\n",
              "    </script>\n",
              "\n",
              "      <script>\n",
              "\n",
              "function displayQuickchartButton(domScope) {\n",
              "  let quickchartButtonEl =\n",
              "    domScope.querySelector('#df-9057e8f9-2c31-4c3d-ae6c-7c15028c5781 button.colab-df-quickchart');\n",
              "  quickchartButtonEl.style.display =\n",
              "    google.colab.kernel.accessAllowed ? 'block' : 'none';\n",
              "}\n",
              "\n",
              "        displayQuickchartButton(document);\n",
              "      </script>\n",
              "      <style>\n",
              "    .colab-df-container {\n",
              "      display:flex;\n",
              "      flex-wrap:wrap;\n",
              "      gap: 12px;\n",
              "    }\n",
              "\n",
              "    .colab-df-convert {\n",
              "      background-color: #E8F0FE;\n",
              "      border: none;\n",
              "      border-radius: 50%;\n",
              "      cursor: pointer;\n",
              "      display: none;\n",
              "      fill: #1967D2;\n",
              "      height: 32px;\n",
              "      padding: 0 0 0 0;\n",
              "      width: 32px;\n",
              "    }\n",
              "\n",
              "    .colab-df-convert:hover {\n",
              "      background-color: #E2EBFA;\n",
              "      box-shadow: 0px 1px 2px rgba(60, 64, 67, 0.3), 0px 1px 3px 1px rgba(60, 64, 67, 0.15);\n",
              "      fill: #174EA6;\n",
              "    }\n",
              "\n",
              "    [theme=dark] .colab-df-convert {\n",
              "      background-color: #3B4455;\n",
              "      fill: #D2E3FC;\n",
              "    }\n",
              "\n",
              "    [theme=dark] .colab-df-convert:hover {\n",
              "      background-color: #434B5C;\n",
              "      box-shadow: 0px 1px 3px 1px rgba(0, 0, 0, 0.15);\n",
              "      filter: drop-shadow(0px 1px 2px rgba(0, 0, 0, 0.3));\n",
              "      fill: #FFFFFF;\n",
              "    }\n",
              "  </style>\n",
              "\n",
              "      <script>\n",
              "        const buttonEl =\n",
              "          document.querySelector('#df-6cb7b905-39cc-4e8d-972f-4c9ac8e530c5 button.colab-df-convert');\n",
              "        buttonEl.style.display =\n",
              "          google.colab.kernel.accessAllowed ? 'block' : 'none';\n",
              "\n",
              "        async function convertToInteractive(key) {\n",
              "          const element = document.querySelector('#df-6cb7b905-39cc-4e8d-972f-4c9ac8e530c5');\n",
              "          const dataTable =\n",
              "            await google.colab.kernel.invokeFunction('convertToInteractive',\n",
              "                                                     [key], {});\n",
              "          if (!dataTable) return;\n",
              "\n",
              "          const docLinkHtml = 'Like what you see? Visit the ' +\n",
              "            '<a target=\"_blank\" href=https://colab.research.google.com/notebooks/data_table.ipynb>data table notebook</a>'\n",
              "            + ' to learn more about interactive tables.';\n",
              "          element.innerHTML = '';\n",
              "          dataTable['output_type'] = 'display_data';\n",
              "          await google.colab.output.renderOutput(dataTable, element);\n",
              "          const docLink = document.createElement('div');\n",
              "          docLink.innerHTML = docLinkHtml;\n",
              "          element.appendChild(docLink);\n",
              "        }\n",
              "      </script>\n",
              "    </div>\n",
              "  </div>\n"
            ]
          },
          "metadata": {},
          "execution_count": 39
        }
      ]
    },
    {
      "cell_type": "markdown",
      "source": [
        "now to round it all up, we have in the final dataset:\n",
        "\n",
        "1.students\n",
        "\n",
        "2.total time spent on the paper (15 questions)\n",
        "\n",
        "3.total score (out of 15)\n",
        "\n",
        "4.flags (if their response times are +-10 of the average response time)*\n",
        "\n",
        "5.flagged when correct (same as flags but question answered correctly)\n",
        "\n",
        "6.low/mid/high_diff_rt: collective response time of each student for each difficulty level\n",
        "\n",
        "7.low/mid/high_diff_rt_correct: same as above but the questions are answered correctly"
      ],
      "metadata": {
        "id": "LJyFoF9lQkwO"
      }
    },
    {
      "cell_type": "markdown",
      "source": [
        "we'll be trying to use this data for clustering"
      ],
      "metadata": {
        "id": "uVKRt6BHRorb"
      }
    }
  ],
  "metadata": {
    "colab": {
      "provenance": []
    },
    "kernelspec": {
      "display_name": "Python 3",
      "name": "python3"
    },
    "language_info": {
      "name": "python"
    }
  },
  "nbformat": 4,
  "nbformat_minor": 0
}